{
 "cells": [
  {
   "cell_type": "code",
   "execution_count": 1,
   "metadata": {},
   "outputs": [],
   "source": [
    "tree = [4,2,7,1,3,6,9]"
   ]
  },
  {
   "cell_type": "code",
   "execution_count": 20,
   "metadata": {},
   "outputs": [],
   "source": [
    "# Definition for a binary tree node.\n",
    "class TreeNode:\n",
    "    def __init__(self, x):\n",
    "        self.val = x\n",
    "        self.left = None\n",
    "        self.right = None\n",
    "\n",
    "\n",
    "class Solution:\n",
    "    def invertTree(self, root: TreeNode) -> TreeNode:\n",
    "        if root:\n",
    "            root.left, root.right = \\\n",
    "                self.invertTree(root.right), self.invertTree(root.left)\n",
    "            return root\n",
    "        return None"
   ]
  },
  {
   "cell_type": "code",
   "execution_count": 28,
   "metadata": {},
   "outputs": [],
   "source": [
    "import collections\n",
    "\n",
    "\n",
    "# Definition for a binary tree node.\n",
    "class TreeNode:\n",
    "    def __init__(self, x):\n",
    "        self.val = x\n",
    "        self.left = None\n",
    "        self.right = None\n",
    "\n",
    "\n",
    "class Solution:\n",
    "    def mergeTrees(self, t1: TreeNode, t2: TreeNode) -> TreeNode:\n",
    "        if t1 and t2:\n",
    "            node = TreeNode(t1.val + t2.val)\n",
    "            node.left = self.mergeTrees(t1.left, t2.left)\n",
    "            node.right = self.mergeTrees(t1.right, t2.right)\n",
    "\n",
    "            return node\n",
    "        else:\n",
    "            return t1 or t2"
   ]
  },
  {
   "cell_type": "code",
   "execution_count": 36,
   "metadata": {},
   "outputs": [],
   "source": [
    "import numpy as np\n",
    "def solution(v):\n",
    "    answer = []\n",
    "    v_list = [i for i in zip(*v)]\n",
    "    \n",
    "    x, x_cnt = np.unique(v_list[0], return_counts=True)\n",
    "    y, y_cnt = np.unique(v_list[1], return_counts=True)\n",
    "    \n",
    "    x_ans = x[x_cnt == 1]\n",
    "    y_ans = y[y_cnt == 1]\n",
    "    \n",
    "    return [int(x_ans), int(y_ans)]"
   ]
  },
  {
   "cell_type": "code",
   "execution_count": 37,
   "metadata": {},
   "outputs": [
    {
     "data": {
      "text/plain": [
       "[1, 10]"
      ]
     },
     "execution_count": 37,
     "metadata": {},
     "output_type": "execute_result"
    }
   ],
   "source": [
    "solution([[1, 4], [3, 4], [3, 10]])"
   ]
  },
  {
   "cell_type": "code",
   "execution_count": 61,
   "metadata": {},
   "outputs": [
    {
     "name": "stdout",
     "output_type": "stream",
     "text": [
      "[[1, 6], [8, 10], [15, 18]]\n"
     ]
    }
   ],
   "source": [
    "li = [[6,2], [1,3], [15, 18], [10,8]]\n",
    "for sublist in li:\n",
    "    sublist.sort()\n",
    "li.sort(key = lambda x: x[0])\n",
    "\n",
    "merged = []\n",
    "for input_li in li:\n",
    "    if merged and input_li[0] <= merged[-1][1]:\n",
    "        merged[-1][1] = max(merged[-1][1], input_li[1])\n",
    "    else:\n",
    "        merged += input_li,\n",
    "print(merged)\n"
   ]
  },
  {
   "cell_type": "code",
   "execution_count": 62,
   "metadata": {},
   "outputs": [],
   "source": [
    "num = [3, 30, 34, 5, 9]"
   ]
  },
  {
   "cell_type": "code",
   "execution_count": 69,
   "metadata": {},
   "outputs": [
    {
     "data": {
      "text/plain": [
       "9534330"
      ]
     },
     "execution_count": 69,
     "metadata": {},
     "output_type": "execute_result"
    }
   ],
   "source": [
    "str_num = [str(x) for x in num]\n",
    "max_len = len(str(max(num)))\n",
    "str_num.sort(key = lambda x: x * max_len, reverse= True)\n",
    "int(''.join(str_num))"
   ]
  },
  {
   "cell_type": "code",
   "execution_count": 74,
   "metadata": {},
   "outputs": [
    {
     "name": "stdout",
     "output_type": "stream",
     "text": [
      "14\n",
      "False\n",
      "False\n",
      "[-3, -3, -2, -2, -1, -1, 0, 0, 1, 1, 2, 2, 3, 3]\n",
      "남은 값 개수 : 0\n"
     ]
    }
   ],
   "source": [
    "import queue\n",
    "\n",
    "## 우선순위큐의 put(), get() 함수들은 O(log n)의 시간복잡도\n",
    "\n",
    "que = queue.PriorityQueue()\n",
    "## que 사이즈 설정\n",
    "#que = queue.PriorityQueue(maxsize = 8)\n",
    "\n",
    "## que에 값추가\n",
    "input_li=[3,2,1,0,-1,-2,-3, 3,2,1,0,-1,-2,-3,]\n",
    "for input_val in input_li:\n",
    "    que.put(input_val)\n",
    "\n",
    "## que 사이즈 리턴\n",
    "print(que.qsize())\n",
    "## que가 비었는지\n",
    "print(que.empty())\n",
    "## que가 가득 찼는지\n",
    "print(que.full())\n",
    "\n",
    "## 모든값 리턴\n",
    "print([que.get() for _ in range(que.qsize())])\n",
    "print('남은 값 개수 :',que.qsize())"
   ]
  },
  {
   "cell_type": "code",
   "execution_count": 73,
   "metadata": {},
   "outputs": [
    {
     "name": "stdout",
     "output_type": "stream",
     "text": [
      "deque([0, 1, 2]) \n",
      "\n",
      "appendleft -1\n",
      "deque([-1, 0, 1, 2]) \n",
      "\n",
      "append 4\n",
      "deque([-1, 0, 1, 2, 4]) \n",
      "\n",
      "popleft\n",
      "deque([0, 1, 2, 4]) \n",
      "\n",
      "pop\n",
      "deque([0, 1, 2]) \n",
      "\n",
      "extend\n",
      "deque([0, 1, 2, 3, 4, 5]) \n",
      "\n",
      "extendleft\n",
      "deque([-1, -2, -3, 0, 1, 2, 3, 4, 5]) \n",
      "\n",
      "rotate 1\n",
      "deque([5, -1, -2, -3, 0, 1, 2, 3, 4])\n",
      "rotate -1\n",
      "deque([-1, -2, -3, 0, 1, 2, 3, 4, 5]) \n",
      "\n",
      "clear\n",
      "deque([]) \n",
      "\n",
      "deque([1, 2, 2, 3, 3, 3, 4, 4, 4, 4])\n",
      "count 1\n",
      "1\n",
      "count 2\n",
      "2\n",
      "count 3\n",
      "3\n"
     ]
    }
   ],
   "source": [
    "import collections\n",
    "\n",
    "def solution(n):\n",
    "    li = [i for i in range(n)]\n",
    "    # deque\n",
    "    que = collections.deque(li)\n",
    "    print(que,'\\n')\n",
    "\n",
    "    # 첫번째 인덱스 값 추가 .appendleft()\n",
    "    que.appendleft(-1)\n",
    "    print('appendleft -1')\n",
    "    print(que,'\\n')\n",
    "\n",
    "    # 마지막 인덱스 값 추가 .append()\n",
    "    que.append(4)\n",
    "    print('append 4')\n",
    "    print(que,'\\n')\n",
    "\n",
    "\n",
    "    #첫번째 인덱스 값 삭제 .popleft()\n",
    "    que.popleft()\n",
    "    print('popleft')\n",
    "    print(que,'\\n')\n",
    "\n",
    "    # 마지막 인덱스 값 삭제 .pop()\n",
    "    que.pop()\n",
    "    print('pop')\n",
    "    print(que,'\\n')\n",
    "\n",
    "    # 우측 iterable 추가 .extend()\n",
    "    que_1=collections.deque([3,4,5])\n",
    "    que.extend(que_1)\n",
    "    print('extend')\n",
    "    print(que,'\\n')\n",
    "\n",
    "    # 좌측 iterable 추가 .extend()\n",
    "    que_0=collections.deque([-3,-2,-1])\n",
    "    que.extendleft(que_0)\n",
    "    print('extendleft')\n",
    "    print(que,'\\n')\n",
    "\n",
    "    # 값 회전 .rotate()\n",
    "    que.rotate(1)\n",
    "    print('rotate 1')\n",
    "    print(que)\n",
    "\n",
    "    que.rotate(-1)\n",
    "    print('rotate -1')\n",
    "    print(que,'\\n')\n",
    "\n",
    "    # 모든 요소 삭제 .clear()\n",
    "    que.clear()\n",
    "    print('clear')\n",
    "    print(que,'\\n')\n",
    "\n",
    "    # count(i) i의 개수 반환\n",
    "    que=collections.deque([1,2,2,3,3,3,4,4,4,4])\n",
    "    print(que)\n",
    "    print('count 1')\n",
    "    print(que.count(1))\n",
    "    print('count 2')\n",
    "    print(que.count(2))\n",
    "    print('count 3')\n",
    "    print(que.count(3))\n",
    "\n",
    "if __name__ == '__main__':\n",
    "    solution(3)"
   ]
  },
  {
   "cell_type": "code",
   "execution_count": 75,
   "metadata": {},
   "outputs": [
    {
     "name": "stdout",
     "output_type": "stream",
     "text": [
      "힙 정렬\n",
      "[0, 1, 2, 6, 3, 5, 4, 7, 8, 9]\n",
      "[0, 1, 2, 3, 4, 5, 6, 7, 8, 9]\n",
      "최대 힙\n",
      "[(-9, 9), (-8, 8), (-4, 4), (-7, 7), (-5, 5), (-2, 2), (-3, 3), (-1, 1), (-6, 6), (0, 0)]\n",
      "[9, 8, 7, 6, 5, 4, 3, 2, 1, 0]\n"
     ]
    }
   ],
   "source": [
    "import heapq\n",
    "## https://docs.python.org/ko/3/library/heapq.html\n",
    "\n",
    "## 힙 정렬\n",
    "def heapsort(iterable):\n",
    "    h = iterable\n",
    "    ## 아래와 똑같은 방법 - 리스트를 힙으로 변환\n",
    "    heapq.heapify(h)\n",
    "    #for value in iterable:\n",
    "    #    heapq.heappush(h, value)\n",
    "    print(h)\n",
    "    return [heapq.heappop(h) for i in range(len(h))]\n",
    "\n",
    "## 최대 힙\n",
    "def maxheapsort(iterable):\n",
    "    max_h = []\n",
    "    for value in iterable:\n",
    "        heapq.heappush(max_h, (-value, value))\n",
    "    print(max_h)\n",
    "    return [heapq.heappop(max_h)[1] for i in range(len(max_h))]\n",
    "\n",
    "if __name__ == '__main__':\n",
    "    ## 힙 정렬\n",
    "    print('힙 정렬')\n",
    "    print(heapsort([1, 3, 5, 7, 9, 2, 4, 6, 8, 0]))\n",
    "\n",
    "    ## 최대 힙\n",
    "    print('최대 힙')\n",
    "    print(maxheapsort([1, 3, 5, 7, 9, 2, 4, 6, 8, 0]))"
   ]
  },
  {
   "cell_type": "code",
   "execution_count": null,
   "metadata": {},
   "outputs": [],
   "source": []
  }
 ],
 "metadata": {
  "kernelspec": {
   "display_name": "Programmers_3.8.18",
   "language": "python",
   "name": "python3"
  },
  "language_info": {
   "codemirror_mode": {
    "name": "ipython",
    "version": 3
   },
   "file_extension": ".py",
   "mimetype": "text/x-python",
   "name": "python",
   "nbconvert_exporter": "python",
   "pygments_lexer": "ipython3",
   "version": "3.8.18"
  },
  "orig_nbformat": 4
 },
 "nbformat": 4,
 "nbformat_minor": 2
}
