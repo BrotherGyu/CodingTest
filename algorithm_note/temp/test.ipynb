{
 "cells": [
  {
   "cell_type": "code",
   "execution_count": 2,
   "metadata": {},
   "outputs": [],
   "source": [
    "import time\n",
    "animals = ['cat', 'dog', 'moose']"
   ]
  },
  {
   "cell_type": "code",
   "execution_count": 5,
   "metadata": {},
   "outputs": [
    {
     "name": "stdout",
     "output_type": "stream",
     "text": [
      "0 cat\n",
      "1 dog\n",
      "2 moose\n"
     ]
    }
   ],
   "source": [
    "start_time = time.time()\n",
    "for i in range(len(animals)):\n",
    "    print(i, animals[i])\n",
    "end_time = time.time()"
   ]
  },
  {
   "cell_type": "code",
   "execution_count": 6,
   "metadata": {},
   "outputs": [
    {
     "name": "stdout",
     "output_type": "stream",
     "text": [
      "실행 시간: 0.00011873245239257812 초\n"
     ]
    }
   ],
   "source": [
    "execution_time = end_time - start_time\n",
    "print(\"실행 시간:\", execution_time, \"초\")"
   ]
  },
  {
   "cell_type": "code",
   "execution_count": 7,
   "metadata": {},
   "outputs": [
    {
     "name": "stdout",
     "output_type": "stream",
     "text": [
      "0 cat\n",
      "1 dog\n",
      "2 moose\n"
     ]
    }
   ],
   "source": [
    "start_time = time.time()\n",
    "for i, animal in enumerate(animals):\n",
    "    print(i, animal)\n",
    "end_time = time.time()"
   ]
  },
  {
   "cell_type": "code",
   "execution_count": 8,
   "metadata": {},
   "outputs": [
    {
     "name": "stdout",
     "output_type": "stream",
     "text": [
      "실행 시간: 0.00011897087097167969 초\n"
     ]
    }
   ],
   "source": [
    "execution_time = end_time - start_time\n",
    "print(\"실행 시간:\", execution_time, \"초\")"
   ]
  },
  {
   "cell_type": "code",
   "execution_count": 9,
   "metadata": {},
   "outputs": [
    {
     "name": "stdout",
     "output_type": "stream",
     "text": [
      "Original Dictionary: {'apple': 3, 'banana': 1, 'cherry': 2, 'date': 4}\n",
      "Sorted Dictionary by Key: {'apple': 3, 'banana': 1, 'cherry': 2, 'date': 4}\n"
     ]
    }
   ],
   "source": [
    "original_dict = {'apple': 3, 'banana': 1, 'cherry': 2, 'date': 4}\n",
    "\n",
    "# 키를 크기 순서대로 정렬한 리스트\n",
    "sorted_items = sorted(original_dict.items())\n",
    "\n",
    "# 정렬된 리스트를 딕셔너리로 다시 변환\n",
    "sorted_dict = dict(sorted_items)\n",
    "\n",
    "print(\"Original Dictionary:\", original_dict)\n",
    "print(\"Sorted Dictionary by Key:\", sorted_dict)"
   ]
  },
  {
   "cell_type": "code",
   "execution_count": 10,
   "metadata": {},
   "outputs": [
    {
     "name": "stdout",
     "output_type": "stream",
     "text": [
      "Original Dictionary: {'apple': 3, 'banana': 1, 'cherry': 2, 'date': 4}\n",
      "Sorted Dictionary by Value: {'banana': 1, 'cherry': 2, 'apple': 3, 'date': 4}\n"
     ]
    }
   ],
   "source": [
    "original_dict = {'apple': 3, 'banana': 1, 'cherry': 2, 'date': 4}\n",
    "\n",
    "# 값을 크기 순서대로 정렬한 리스트\n",
    "sorted_items = sorted(original_dict.items(), key=lambda x: x[1])\n",
    "\n",
    "# 정렬된 리스트를 딕셔너리로 다시 변환\n",
    "sorted_dict = dict(sorted_items)\n",
    "\n",
    "print(\"Original Dictionary:\", original_dict)\n",
    "print(\"Sorted Dictionary by Value:\", sorted_dict)"
   ]
  }
 ],
 "metadata": {
  "kernelspec": {
   "display_name": "Programmers_3.8.18",
   "language": "python",
   "name": "python3"
  },
  "language_info": {
   "codemirror_mode": {
    "name": "ipython",
    "version": 3
   },
   "file_extension": ".py",
   "mimetype": "text/x-python",
   "name": "python",
   "nbconvert_exporter": "python",
   "pygments_lexer": "ipython3",
   "version": "3.8.18"
  },
  "orig_nbformat": 4
 },
 "nbformat": 4,
 "nbformat_minor": 2
}
