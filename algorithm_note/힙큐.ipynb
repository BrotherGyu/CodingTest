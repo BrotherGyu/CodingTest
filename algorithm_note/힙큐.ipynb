{
 "cells": [
  {
   "cell_type": "code",
   "execution_count": 1,
   "metadata": {},
   "outputs": [
    {
     "name": "stdout",
     "output_type": "stream",
     "text": [
      "힙 정렬\n",
      "[0, 1, 2, 6, 3, 5, 4, 7, 8, 9]\n",
      "[0, 1, 2, 3, 4, 5, 6, 7, 8, 9]\n",
      "최대 힙\n",
      "[(-9, 9), (-8, 8), (-4, 4), (-7, 7), (-5, 5), (-2, 2), (-3, 3), (-1, 1), (-6, 6), (0, 0)]\n",
      "[9, 8, 7, 6, 5, 4, 3, 2, 1, 0]\n"
     ]
    }
   ],
   "source": [
    "import heapq\n",
    "## https://docs.python.org/ko/3/library/heapq.html\n",
    "\n",
    "## 힙 정렬\n",
    "def heapsort(iterable):\n",
    "    h = iterable\n",
    "    ## 아래와 똑같은 방법 - 리스트를 힙으로 변환\n",
    "    heapq.heapify(h)\n",
    "    #for value in iterable:\n",
    "    #    heapq.heappush(h, value)\n",
    "    print(h)\n",
    "    return [heapq.heappop(h) for i in range(len(h))]\n",
    "\n",
    "## 최대 힙\n",
    "def maxheapsort(iterable):\n",
    "    max_h = []\n",
    "    for value in iterable:\n",
    "        heapq.heappush(max_h, (-value, value))\n",
    "    print(max_h)\n",
    "    return [heapq.heappop(max_h)[1] for i in range(len(max_h))]\n",
    "\n",
    "if __name__ == '__main__':\n",
    "    ## 힙 정렬\n",
    "    print('힙 정렬')\n",
    "    print(heapsort([1, 3, 5, 7, 9, 2, 4, 6, 8, 0]))\n",
    "\n",
    "    ## 최대 힙\n",
    "    print('최대 힙')\n",
    "    print(maxheapsort([1, 3, 5, 7, 9, 2, 4, 6, 8, 0]))"
   ]
  },
  {
   "cell_type": "code",
   "execution_count": null,
   "metadata": {},
   "outputs": [],
   "source": []
  }
 ],
 "metadata": {
  "kernelspec": {
   "display_name": "Programmers_3.8.18",
   "language": "python",
   "name": "python3"
  },
  "language_info": {
   "codemirror_mode": {
    "name": "ipython",
    "version": 3
   },
   "file_extension": ".py",
   "mimetype": "text/x-python",
   "name": "python",
   "nbconvert_exporter": "python",
   "pygments_lexer": "ipython3",
   "version": "3.8.18"
  },
  "orig_nbformat": 4
 },
 "nbformat": 4,
 "nbformat_minor": 2
}
