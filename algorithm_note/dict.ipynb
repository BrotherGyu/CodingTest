{
 "cells": [
  {
   "cell_type": "markdown",
   "metadata": {},
   "source": [
    "달리기 경주\n",
    "> https://school.programmers.co.kr/learn/courses/30/lessons/178871?language=python3"
   ]
  },
  {
   "cell_type": "code",
   "execution_count": 1,
   "metadata": {},
   "outputs": [],
   "source": [
    "def solution(players, callings):\n",
    "    players_dict = dict()\n",
    "    for idx, player in enumerate(players):\n",
    "        players_dict[player] = idx\n",
    "        \n",
    "    for player in callings:\n",
    "        idx = players_dict.get(player)\n",
    "        front = players[idx - 1]\n",
    "\n",
    "        players_dict[player] = idx - 1\n",
    "        players_dict[front] = idx\n",
    "        \n",
    "        players[idx-1], players[idx] = players[idx], players[idx-1]\n",
    "\n",
    "    return players"
   ]
  }
 ],
 "metadata": {
  "kernelspec": {
   "display_name": "Programmers_3.8.18",
   "language": "python",
   "name": "python3"
  },
  "language_info": {
   "codemirror_mode": {
    "name": "ipython",
    "version": 3
   },
   "file_extension": ".py",
   "mimetype": "text/x-python",
   "name": "python",
   "nbconvert_exporter": "python",
   "pygments_lexer": "ipython3",
   "version": "3.8.18"
  },
  "orig_nbformat": 4
 },
 "nbformat": 4,
 "nbformat_minor": 2
}
